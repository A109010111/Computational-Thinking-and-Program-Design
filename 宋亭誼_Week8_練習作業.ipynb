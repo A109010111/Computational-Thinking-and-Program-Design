{
  "nbformat": 4,
  "nbformat_minor": 0,
  "metadata": {
    "colab": {
      "name": "宋亭誼-Week8-練習作業.ipynb",
      "provenance": [],
      "collapsed_sections": [],
      "include_colab_link": true
    },
    "kernelspec": {
      "display_name": "Python 3",
      "language": "python",
      "name": "python3"
    },
    "language_info": {
      "codemirror_mode": {
        "name": "ipython",
        "version": 3
      },
      "file_extension": ".py",
      "mimetype": "text/x-python",
      "name": "python",
      "nbconvert_exporter": "python",
      "pygments_lexer": "ipython3",
      "version": "3.8.5"
    }
  },
  "cells": [
    {
      "cell_type": "markdown",
      "metadata": {
        "id": "view-in-github",
        "colab_type": "text"
      },
      "source": [
        "<a href=\"https://colab.research.google.com/github/A109010111/Computational-Thinking-and-Program-Design/blob/main/%E5%AE%8B%E4%BA%AD%E8%AA%BC_Week8_%E7%B7%B4%E7%BF%92%E4%BD%9C%E6%A5%AD.ipynb\" target=\"_parent\"><img src=\"https://colab.research.google.com/assets/colab-badge.svg\" alt=\"Open In Colab\"/></a>"
      ]
    },
    {
      "cell_type": "markdown",
      "metadata": {
        "id": "ND-95kDoq51c"
      },
      "source": [
        "範例練習4-4: 服裝訂購系統 \n"
      ]
    },
    {
      "cell_type": "code",
      "metadata": {
        "colab": {
          "base_uri": "https://localhost:8080/"
        },
        "id": "mz-NVsSifP1r",
        "outputId": "8ad70421-1075-40e0-dd75-4fbdb4ac5d6c"
      },
      "source": [
        "cloth = int(input('請輸入上衣數量?'))\n",
        "trousers = int(input('請輸入褲子數量?'))\n",
        "vest = int(input('請輸入背心數量?'))\n",
        "total = cloth*300 + trousers*350 + vest*400\n",
        "print('訂購服裝的總金額為', total)"
      ],
      "execution_count": 18,
      "outputs": [
        {
          "output_type": "stream",
          "text": [
            "請輸入上衣數量?10\n",
            "請輸入褲子數量?8\n",
            "請輸入背心數量?5\n",
            "訂購服裝的總金額為 7800\n"
          ],
          "name": "stdout"
        }
      ]
    },
    {
      "cell_type": "markdown",
      "metadata": {
        "id": "AIKQAbStq_EM"
      },
      "source": [
        "範例練習4-5: 賣場買飲料 "
      ]
    },
    {
      "cell_type": "code",
      "metadata": {
        "colab": {
          "base_uri": "https://localhost:8080/"
        },
        "id": "WZKgkGdLk_zF",
        "outputId": "4f9e9c94-7e79-4376-e7e2-297e6fd8fde4"
      },
      "source": [
        "cans = int(input('請輸入購買飲料的罐數'))\n",
        "total = (cans//12)*200 + (cans%12)*20\n",
        "print('需花費', total)"
      ],
      "execution_count": 29,
      "outputs": [
        {
          "output_type": "stream",
          "text": [
            "請輸入購買飲料的罐數124\n",
            "需花費 2080\n"
          ],
          "name": "stdout"
        }
      ]
    },
    {
      "cell_type": "markdown",
      "metadata": {
        "id": "DU4fopbKrWWM"
      },
      "source": [
        "範例練習4-6：求三數總和與平均"
      ]
    },
    {
      "cell_type": "code",
      "metadata": {
        "colab": {
          "base_uri": "https://localhost:8080/"
        },
        "id": "yUvstcZ0mTe0",
        "outputId": "b7f3fb79-bf8c-4680-aa49-c0dc6ae96440"
      },
      "source": [
        "x,y,z = eval(input(\"Enter your score\"))\n",
        "Sum = x + y + z\n",
        "Average = Sum /3\n",
        "print(f\"Total score  is {Sum} and average score is {Average}.\")"
      ],
      "execution_count": 20,
      "outputs": [
        {
          "output_type": "stream",
          "text": [
            "Enter your score88,77,66\n",
            "Total score  is 231 and average score is 77.0.\n"
          ],
          "name": "stdout"
        }
      ]
    },
    {
      "cell_type": "markdown",
      "metadata": {
        "id": "3rzGWfThq4FN"
      },
      "source": [
        "隨堂練習： 請計算NBA 史上最偉⼤的中鋒之⼀，「柴油引擎」俠客歐尼爾（Shaquille O’Neal）巔峰時期的BMI。當時他的⾝⾼(216cm)與體重(147kg)，⽽其所對應的⾝體質量指數 公式為BMI ＝ 公⽄ / 公尺平⽅。\n"
      ]
    },
    {
      "cell_type": "code",
      "metadata": {
        "colab": {
          "base_uri": "https://localhost:8080/"
        },
        "id": "YQUupB3imy0l",
        "outputId": "c16fb550-3fe2-4bbc-889a-fbd938d30841"
      },
      "source": [
        "player_name = input(\"請輸入球員姓名: \")\n",
        "player_height = input(\"請輸入球員身高(cm): \")\n",
        "player_weight = input(\"請輸入球員體重(kg): \")\n",
        "player_height = float(player_height)\n",
        "player_weight = float(player_weight)\n",
        "player_bmi = player_weight/(player_height*0.01)**2\n",
        "\n",
        "print(\"{}的身體質量指數為:{:.2f}\".format(player_name, player_bmi))\n",
        "print(player_name,'的身體質量指數為', player_bmi)"
      ],
      "execution_count": 24,
      "outputs": [
        {
          "output_type": "stream",
          "text": [
            "請輸入球員姓名: Shaquille O’Neal\n",
            "請輸入球員身高(cm): 216\n",
            "請輸入球員體重(kg): 147\n",
            "Shaquille O’Neal的身體質量指數為:31.51\n",
            "Shaquille O’Neal 的身體質量指數為 31.507201646090532\n"
          ],
          "name": "stdout"
        }
      ]
    },
    {
      "cell_type": "code",
      "metadata": {
        "id": "7otWHCWDsZE2"
      },
      "source": [
        "## 網址:  https://www.showtimes.com.tw/events/byProgram/10336\n",
        "## 相關資訊: 角頭浪流連、  https://www.showtimes.com.tw/events/byProgram/10336\n",
        "  https://www.showtimes.com.tw/events/byProgram/10336\n",
        "## 相關資訊: 電影名稱-角頭浪流連、放映時間-20210415 19:10\n",
        "\n",
        "movie_title = \"角頭浪流連\" # 電影名稱\n",
        "release_year = 2021 # 放映日期\n",
        "movie_time_min = 121\n",
        "movie_rating = 7.2\n",
        "\n",
        "director = \"姜瑞智\"\n",
        "stars_1 = \"鄭人碩\"\n",
        "stars_2 = \"謝欣穎\"\n",
        "\n",
        "like = 1 # 我喜歡\n",
        "\n"
      ],
      "execution_count": null,
      "outputs": []
    }
  ]
}