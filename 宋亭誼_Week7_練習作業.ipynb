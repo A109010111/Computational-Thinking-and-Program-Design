{
  "nbformat": 4,
  "nbformat_minor": 0,
  "metadata": {
    "colab": {
      "name": "宋亭誼-Week7-練習作業.ipynb",
      "provenance": [],
      "collapsed_sections": [],
      "include_colab_link": true
    },
    "kernelspec": {
      "display_name": "Python 3",
      "language": "python",
      "name": "python3"
    },
    "language_info": {
      "codemirror_mode": {
        "name": "ipython",
        "version": 3
      },
      "file_extension": ".py",
      "mimetype": "text/x-python",
      "name": "python",
      "nbconvert_exporter": "python",
      "pygments_lexer": "ipython3",
      "version": "3.8.5"
    }
  },
  "cells": [
    {
      "cell_type": "markdown",
      "metadata": {
        "id": "view-in-github",
        "colab_type": "text"
      },
      "source": [
        "<a href=\"https://colab.research.google.com/github/A109010111/Computational-Thinking-and-Program-Design/blob/main/%E5%AE%8B%E4%BA%AD%E8%AA%BC_Week7_%E7%B7%B4%E7%BF%92%E4%BD%9C%E6%A5%AD.ipynb\" target=\"_parent\"><img src=\"https://colab.research.google.com/assets/colab-badge.svg\" alt=\"Open In Colab\"/></a>"
      ]
    },
    {
      "cell_type": "markdown",
      "metadata": {
        "id": "wnyrzAGjhGPU"
      },
      "source": [
        "# 序列主題（一）:變數賦值與輸入輸出"
      ]
    },
    {
      "cell_type": "markdown",
      "metadata": {
        "id": "qto0EG3Y2XVc"
      },
      "source": [
        "## I. 自由練習"
      ]
    },
    {
      "cell_type": "markdown",
      "metadata": {
        "id": "v8MMOAhg6FVQ"
      },
      "source": [
        "**1. 變數賦值**\n",
        "\n",
        "用變數儲存資料，將資料放在電腦記憶體中的某個位置，然後給這個地方一個好名字。"
      ]
    },
    {
      "cell_type": "markdown",
      "metadata": {
        "id": "0IvbHo9y2fnk"
      },
      "source": [
        "**2. 變數三二一**\n",
        "\n",
        "一個特殊符號(等號、名字=資料)，兩種運算方式(運算式與函式)，三種資料型態(文字數字與布林)"
      ]
    },
    {
      "cell_type": "markdown",
      "metadata": {
        "id": "ojk8RUrAhGPW"
      },
      "source": [
        "(1)光有名字不行，要有等號，要有資料；名字在左、資料在右，運算式也可以。"
      ]
    },
    {
      "cell_type": "code",
      "metadata": {
        "id": "r3mqrAVF87Y5"
      },
      "source": [
        "# 練習\n",
        "Sum = 0\n",
        "A = 1\n",
        "2 = B #「=」的左邊是名字，不能放常數。\n",
        "A + B = Sum #「=」的左邊不能是運算式。 \n",
        "A, B = 1, 2 # 這樣寫可以，是Pythonic的寫法。"
      ],
      "execution_count": null,
      "outputs": []
    },
    {
      "cell_type": "code",
      "metadata": {
        "id": "uerYKHqR9C14"
      },
      "source": [
        "Sum = 0\n",
        "A = 1\n",
        "B = 2 #「=」的左邊是名字，不能放常數。\n",
        "Sum = A + B #「=」的左邊不能是運算式。 \n",
        "A, B = 1, 2 # 這樣寫可以，是Pythonic的寫法。"
      ],
      "execution_count": null,
      "outputs": []
    },
    {
      "cell_type": "markdown",
      "metadata": {
        "id": "cKYacmLehGPW"
      },
      "source": [
        "(2)變數的命名，選個好名字。"
      ]
    },
    {
      "cell_type": "markdown",
      "metadata": {
        "id": "E8_TvM0x6Ibe"
      },
      "source": [
        "**3.數字文字布林三種資料類型**\n",
        "\n",
        "整數浮點數、字串、真假。用type()判斷資料類型，用int(),float(),str(), bool()指定資料型態。"
      ]
    },
    {
      "cell_type": "code",
      "metadata": {
        "id": "Ege_NjW99__c"
      },
      "source": [
        "# 練習\n",
        "print(87)\n",
        "print(8.7)\n",
        "\n",
        "hello_py1 = 'Hello Python!'\n",
        "hello_py2 = \"Hello Python!\"\n",
        "print(hello_py1)\n",
        "print(hello_py2)\n",
        "\n",
        "es1 = \"I'm a student.\"\n",
        "es2 = \"I\\'m a student.\"\n",
        "es3 = 'I\\'m a student.'\n",
        "print(es1, es2, es3)\n",
        "\n",
        "print(True)\n",
        "print(False)"
      ],
      "execution_count": null,
      "outputs": []
    },
    {
      "cell_type": "markdown",
      "metadata": {
        "id": "BlzW-KBShGPX"
      },
      "source": [
        "(3)資料類型的判斷用type()"
      ]
    },
    {
      "cell_type": "markdown",
      "metadata": {
        "id": "F_QiVc-4hGPX"
      },
      "source": [
        "(4)資料類型的建立與轉換用int(), float(),str(),bool() "
      ]
    },
    {
      "cell_type": "markdown",
      "metadata": {
        "id": "DArIzBHe6om9"
      },
      "source": [
        "**4.輸入**\n",
        "\n",
        "用input()輸入資料。要有小括號、要有輸入說明、要有等號賦值，儲存的資料為文字字串、做數學運算時需要改變資料類型。"
      ]
    },
    {
      "cell_type": "code",
      "metadata": {
        "id": "HAx_qPWI-enp"
      },
      "source": [
        "# 練習\n",
        "a = input(\"Input number a = \")\n",
        "b = input(\"Input number b = \")\n",
        "print(a, b)\n",
        "print(a + b)\n",
        "print(a + 1)"
      ],
      "execution_count": null,
      "outputs": []
    },
    {
      "cell_type": "code",
      "metadata": {
        "id": "lfH17gjb-4Bw"
      },
      "source": [
        "# 練習\n",
        "a = input(\"Input number a = \")\n",
        "b = input(\"Input number b = \")\n",
        "print(a, b)\n",
        "print(a + b)\n",
        "a = eval(a)\n",
        "print(a + 1)"
      ],
      "execution_count": null,
      "outputs": []
    },
    {
      "cell_type": "markdown",
      "metadata": {
        "id": "3Aof0VJI7Oq6"
      },
      "source": [
        "**5.輸出**\n",
        "\n",
        "print()為螢幕列印。將物件放在小括號中，多個物件以逗號相隔即可。\n",
        "注意分隔、換行等轉義序列用法(\\n, \\t, \\\", \\')。\n",
        "可以使用字串輸出列印，即print(f\"...{variable}...\")"
      ]
    },
    {
      "cell_type": "code",
      "metadata": {
        "id": "mHPoMyCTANrt",
        "colab": {
          "base_uri": "https://localhost:8080/"
        },
        "outputId": "078649f9-ab1c-4ad7-fe18-e43e075141d1"
      },
      "source": [
        "# 練習\n",
        "\n",
        "print(\"Hello, Francis\")\n",
        "\n",
        "name = \"Francis\"\n",
        "print(\"Hello, %s\" %name)\n",
        "print(\"Hello, {}\".format(name))\n",
        "print(f\"Hello, {name}\")"
      ],
      "execution_count": null,
      "outputs": [
        {
          "output_type": "stream",
          "text": [
            "Hello, Francis\n",
            "Hello, Francis\n",
            "Hello, Francis\n",
            "Hello, Francis\n"
          ],
          "name": "stdout"
        }
      ]
    },
    {
      "cell_type": "code",
      "metadata": {
        "colab": {
          "base_uri": "https://localhost:8080/"
        },
        "id": "Ni6PPDIeVuND",
        "outputId": "89e3338e-600a-4b23-ecea-059fd1b38eda"
      },
      "source": [
        "print(\"Hello, Olivia\")\n",
        "\n",
        "name = \"Olivia\"\n",
        "print(\"Hello, %s\" %name)\n",
        "print(\"Hello, {}\".format(name))\n",
        "print(f\"Hello, {name}\")"
      ],
      "execution_count": null,
      "outputs": [
        {
          "output_type": "stream",
          "text": [
            "Hello, Olivia\n",
            "Hello, Olivia\n",
            "Hello, Olivia\n",
            "Hello, Olivia\n"
          ],
          "name": "stdout"
        }
      ]
    },
    {
      "cell_type": "markdown",
      "metadata": {
        "id": "13ZEwX9BNqG4"
      },
      "source": [
        "## II. 隨堂練習"
      ]
    },
    {
      "cell_type": "markdown",
      "metadata": {
        "id": "6AwUda3ZhsZG"
      },
      "source": [
        "**隨堂練習1: 自我介紹**\n",
        "\n",
        "我們將和電腦一起完成很多工作，並要求它為我們做一堆很酷的事情，所以不妨來個自我介紹，正式打個招呼！\n",
        "\n",
        "(1)使用print()函數向電腦介紹自己。你的自我介紹應該顯示在主控台視窗裡，中英文均可。\n",
        "\n",
        "(2)更改現有的print()函數，使用f字串。\n",
        "\n",
        "請創立兩個變數，name和age；然後為name變數指派你的名字字串，為age變數指派一個數學運算式，計算你的年齡。最後，使用f字串、name和age變數輸出你的簡介到電腦上！\n",
        "\n",
        "預期輸出範例\n",
        "\n",
        "\"Hello, My name is Franics. I was bon in 2000.\"\n",
        "\n",
        "\"Hi, My name is Franics and I am 21 years old!\""
      ]
    },
    {
      "cell_type": "code",
      "metadata": {
        "id": "v-OnPWagVhmj",
        "colab": {
          "base_uri": "https://localhost:8080/"
        },
        "outputId": "17da8c7e-535f-4687-c0c1-fa6b47a886c1"
      },
      "source": [
        "print(\"Hello, My name is Olivia. I was born in 2001\")"
      ],
      "execution_count": null,
      "outputs": [
        {
          "output_type": "stream",
          "text": [
            "Hello, My name is Olivia. I was born in 2001\n"
          ],
          "name": "stdout"
        }
      ]
    },
    {
      "cell_type": "code",
      "metadata": {
        "colab": {
          "base_uri": "https://localhost:8080/"
        },
        "id": "kf8xhM9YYLw9",
        "outputId": "593fd604-fdef-4aa4-a4c6-a3a0ef2d9dd4"
      },
      "source": [
        "print(f\"Hi, My name is Olivia and I am 19 years old!\")"
      ],
      "execution_count": null,
      "outputs": [
        {
          "output_type": "stream",
          "text": [
            "Hi, My name is Olivia and I am 19 years old!\n"
          ],
          "name": "stdout"
        }
      ]
    },
    {
      "cell_type": "code",
      "metadata": {
        "colab": {
          "base_uri": "https://localhost:8080/"
        },
        "id": "LSSfAkAVYd6L",
        "outputId": "a1f9f6aa-0750-47d2-89e8-87ae74b7f523"
      },
      "source": [
        "name = \"Olivia\"\n",
        "age = 2021-2001\n",
        "\n",
        "print(f\"Hi, My name is {name} and I am {age} years old!\")"
      ],
      "execution_count": null,
      "outputs": [
        {
          "output_type": "stream",
          "text": [
            "Hi, My name is Olivia and I am 20 years old!\n"
          ],
          "name": "stdout"
        }
      ]
    },
    {
      "cell_type": "markdown",
      "metadata": {
        "id": "3TUFVF1wiGF8"
      },
      "source": [
        "**隨堂練習2: 引用引文**\n",
        "\n",
        "在網路上搜尋名言，或者使用你自己的名言。它可以是激勵你的文字、電影中一段有趣的台詞，甚至是家人說的話。"
      ]
    },
    {
      "cell_type": "code",
      "metadata": {
        "colab": {
          "base_uri": "https://localhost:8080/"
        },
        "id": "nIgg-xMUZUlT",
        "outputId": "b28aeaa6-af1a-44bf-f78f-231b296f2d58"
      },
      "source": [
        "print(\"Forever Young\")"
      ],
      "execution_count": null,
      "outputs": [
        {
          "output_type": "stream",
          "text": [
            "Forever Young\n"
          ],
          "name": "stdout"
        }
      ]
    },
    {
      "cell_type": "code",
      "metadata": {
        "colab": {
          "base_uri": "https://localhost:8080/"
        },
        "id": "hVyc3hCNYK6c",
        "outputId": "337efb6f-6411-43a2-91ca-05e8c87f0016"
      },
      "source": [
        "print('\\\"Forever Young\\\"')"
      ],
      "execution_count": null,
      "outputs": [
        {
          "output_type": "stream",
          "text": [
            "\"Forever Young\"\n"
          ],
          "name": "stdout"
        }
      ]
    },
    {
      "cell_type": "markdown",
      "metadata": {
        "id": "tKhmRklJiNQ7"
      },
      "source": [
        "**隨堂練習3: 情緒變數**\n",
        "\n",
        "通常，我們的心情每天每分每秒都在變化。某天我們可能精力充沛，隔天我們可能感覺非常疲憊；或者今天是星期五，大多數的人都非常快樂！無論我們的心情如何，我們都可以使用變數保存它。"
      ]
    },
    {
      "cell_type": "markdown",
      "metadata": {
        "id": "yhT7SEOgigU-"
      },
      "source": [
        "**隨堂練習4: 滑稽故事**\n",
        "\n",
        "你玩過Mad Libs這種紙上遊戲嗎？這是一個有趣的遊戲，你要求另一個人給你各種類型單字，例如：顏色、數字、形容詞等，並且將這些單字填補到短篇故事中的空白處，當空白處填完畢後，你朗誦整段故事給他們聽，大多時候，這些故事真的變得很滑稽。\n",
        "\n",
        "大家該做什麼\n",
        "\n",
        "我們知道可以使用f字串替換字串的某些部分，編寫一個程式，輸出你那荒謬的、來自朋友的故事。以下是開始的步驟：\n",
        "\n",
        "Step 1: 創立一個新檔來儲存滑稽故事的程式。\n",
        "\n",
        "Step 2: 創立四到五個不同類型單字的變數。例如下面並儲存這些變數在檔案中。\n",
        "\n",
        "```\n",
        "name = \"\"\n",
        "adjective = \"\"\n",
        "favorite_snack = \"\"\n",
        "number = \"\"\n",
        "type_of_tree = \"\"\n",
        "```\n",
        "\n",
        "請注意，我們尚未指派變數的任何值。這裡就是之後填入朋友提供你的單字之處。\n",
        "\n",
        "Step3: 創立另一個變數保存你的滑稽故事，你可以使用此模版或編寫你自己的模版：\n",
        "\n",
        "```\n",
        "silly_story = f\"\"\"\n",
        "Hi, my name is {name}.\n",
        "I really like {adjective}{favorite_snack}!\n",
        "I like it so much, I try to eat it at least {number} times every day.\n",
        "It tastes even better when you eat it under a {type of tree}!\n",
        "\"\"\"\n",
        "```\n",
        "\n",
        "Step4: 最後，使用print()函式輸出你的滑稽故事：\n",
        "\n",
        "```\n",
        "print(silly_story)\n",
        "```\n",
        "\n",
        "這樣就完成了！現在去找朋友，要求他們給一些單字（你的變數）。將變數更改為朋友給你的單字，儲存程式然後執行它，看看你的滑稽故事。"
      ]
    },
    {
      "cell_type": "code",
      "metadata": {
        "colab": {
          "base_uri": "https://localhost:8080/"
        },
        "id": "5mwxfoYDZuF8",
        "outputId": "e1519ec0-1eca-4f33-920c-3fdb3877dcc8"
      },
      "source": [
        "silly_story = f\"\"\"\n",
        "name = \"Olivia\"\n",
        "adjective = \"tasty\"\n",
        "favorite_snack = \"pearl milk tea\"\n",
        "number = \"one\"\n",
        "type_of_tree = \"big cactus\"\n",
        "\n",
        "Hi, my name is {name}.\n",
        "I really like {favorite_snack}!\n",
        "I like it so much, I even drink it at least {number} cup every day.\n",
        "It tastes even better after doing exercising under {type_of_tree}!\n",
        "\"\"\"\n",
        "print(silly_story)"
      ],
      "execution_count": null,
      "outputs": [
        {
          "output_type": "stream",
          "text": [
            "\n",
            "name = \"Olivia\"\n",
            "adjective = \"tasty\"\n",
            "favorite_snack = \"pearl milk tea\"\n",
            "number = \"one\"\n",
            "type_of_tree = \"big cactus\"\n",
            "\n",
            "Hi, my name is Olivia.\n",
            "I really like pearl milk tea!\n",
            "I like it so much, I even drink it at least one cup every day.\n",
            "It tastes even better after doing exercising under big cactus!\n",
            "\n"
          ],
          "name": "stdout"
        }
      ]
    },
    {
      "cell_type": "markdown",
      "metadata": {
        "id": "MM_K13L9OGfY"
      },
      "source": [
        "## III. 課後練習"
      ]
    },
    {
      "cell_type": "markdown",
      "metadata": {
        "id": "gWi7UdhNDmpI"
      },
      "source": [
        "**練習3: 變數賦值，小猴子摘水果**\n",
        "\n",
        "有一天，一隻小猴子來到果園裡，牠走道蘋果樹下，看到滿樹的蘋果，就爬上去摘了2個。又看到不滿的地方有一個梨子樹，又大又黃，就丟掉蘋果，爬到梨子樹摘了1個梨子。正準備吃的時候，看到前方又紅又大的桃子樹，就又高高興興地跑到桃樹上，摘了3個桃子。這時傳來小鳥的叫聲，鳥在香蕉樹上，當然就立馬飛奔去摘香蕉，最後吃了6根香蕉。請問這隻猴子摘了多少個水果，手中最後的水果是什麼？請你用Python記錄一下！"
      ]
    },
    {
      "cell_type": "code",
      "metadata": {
        "colab": {
          "base_uri": "https://localhost:8080/"
        },
        "id": "J0VOXvfjN47C",
        "outputId": "1f77b6e7-8fc7-4222-a0f1-f3639dc8295b"
      },
      "source": [
        "number=\"12\"\n",
        "print(f'The monkey picked {number}.')"
      ],
      "execution_count": null,
      "outputs": [
        {
          "output_type": "stream",
          "text": [
            "The monkey picked 12.\n"
          ],
          "name": "stdout"
        }
      ]
    },
    {
      "cell_type": "code",
      "metadata": {
        "colab": {
          "base_uri": "https://localhost:8080/"
        },
        "id": "TMKRyrZlY-dd",
        "outputId": "5199a31e-6d77-40da-b72e-a7eb619c0f10"
      },
      "source": [
        "print(\"梨子\",\"桃子\",\"香蕉\",sep=\" \")"
      ],
      "execution_count": null,
      "outputs": [
        {
          "output_type": "stream",
          "text": [
            "梨子 桃子 香蕉\n"
          ],
          "name": "stdout"
        }
      ]
    },
    {
      "cell_type": "code",
      "metadata": {
        "colab": {
          "base_uri": "https://localhost:8080/"
        },
        "id": "qh8TumO1eYpY",
        "outputId": "c3600491-9a3f-4a92-94df-2ac217f164da"
      },
      "source": [
        "total = 0\n",
        "fruit = \"Apple\"\n",
        "number =  2\n",
        "total = total + number\n",
        "print(\"摘了\",fruit, \"摘了\", number, \"個, 總共摘了\", total, \"個水果\")\n",
        "print(f\"摘了{fruit}、摘了{number}個, 總共摘了{total}個水果\")\n",
        "\n",
        "fruit = \"Pear\"\n",
        "number =  1\n",
        "total = total + number\n",
        "print(\"摘了\",fruit, \"摘了\", number, \"個, 總共摘了\", total, \"個水果\")\n",
        "print(f\"摘了{fruit}、摘了{number}個, 總共摘了{total}個水果\")\n",
        "\n",
        "fruit = \"Peach\"\n",
        "number =  3\n",
        "total = total + number\n",
        "print(\"摘了\",fruit, \"摘了\", number, \"個, 總共摘了\", total, \"個水果\")\n",
        "print(f\"摘了{fruit}、摘了{number}個, 總共摘了{total}個水果\")\n",
        "\n",
        "fruit = \"Banana\"\n",
        "number =  6\n",
        "total = total + number\n",
        "print(\"摘了\",fruit, \"摘了\", number, \"個, 總共摘了\", total, \"個水果\")\n",
        "print(f\"摘了{fruit}、摘了{number}個, 總共摘了{total}個水果\")"
      ],
      "execution_count": null,
      "outputs": [
        {
          "output_type": "stream",
          "text": [
            "摘了 Apple 摘了 2 個, 總共摘了 2 個水果\n",
            "摘了Apple、摘了2個, 總共摘了2個水果\n",
            "摘了 Pear 摘了 1 個, 總共摘了 3 個水果\n",
            "摘了Pear、摘了1個, 總共摘了3個水果\n",
            "摘了 Peach 摘了 3 個, 總共摘了 6 個水果\n",
            "摘了Peach、摘了3個, 總共摘了6個水果\n",
            "摘了 Banana 摘了 6 個, 總共摘了 12 個水果\n",
            "摘了Banana、摘了6個, 總共摘了12個水果\n"
          ],
          "name": "stdout"
        }
      ]
    },
    {
      "cell_type": "markdown",
      "metadata": {
        "id": "67eb5JKZDvPn"
      },
      "source": [
        "**練習4: 是真的嗎？網路資料不輕信**\n",
        "\n",
        "宣宣這學期開始學習Python，老師和學長姊都說多上網查找相關資料，多多麻煩Google大神找答案，是提升自學能力最好的方法。於是她看到一段與上課有關但老師沒有教的內容，宣宣想看看下面的內容正不正確，你能幫助她嗎？(1)在Python中，用1表示True，用0和其他非1的整數表示False。(2)在Python中，所有物件都可以進行布林測試。"
      ]
    },
    {
      "cell_type": "code",
      "metadata": {
        "colab": {
          "base_uri": "https://localhost:8080/"
        },
        "id": "5aB9DtIydMDw",
        "outputId": "141b20e6-5fe8-478a-c263-ff8a521fa635"
      },
      "source": [
        "# 在Python中，用1表示True，用0和其他非1的整數表示False。\n",
        "bool(1)\n",
        "bool(0)\n",
        "bool(100)\n",
        "# 在Python中，所有物件都可以進行布林測試。\n",
        "bool(8.7)\n",
        "bool(\"87\")\n",
        "bool(True)\n",
        "bool(False)"
      ],
      "execution_count": null,
      "outputs": [
        {
          "output_type": "execute_result",
          "data": {
            "text/plain": [
              "False"
            ]
          },
          "metadata": {
            "tags": []
          },
          "execution_count": 7
        }
      ]
    },
    {
      "cell_type": "code",
      "metadata": {
        "colab": {
          "base_uri": "https://localhost:8080/"
        },
        "id": "Suol6PDXdj1m",
        "outputId": "53a66a15-f27d-4a0f-f3d9-b82b7ca084ad"
      },
      "source": [
        "name = input('請問貴姓大名?')\n",
        "print('你好，', name)"
      ],
      "execution_count": null,
      "outputs": [
        {
          "output_type": "stream",
          "text": [
            "請問貴姓大名?Olivia\n",
            "你好， Olivia\n"
          ],
          "name": "stdout"
        }
      ]
    },
    {
      "cell_type": "code",
      "metadata": {
        "colab": {
          "base_uri": "https://localhost:8080/"
        },
        "id": "C7r9WKkki71a",
        "outputId": "dce15bbf-46c7-44c0-cc23-06b49051c713"
      },
      "source": [
        "age = int (input('請問年紀?'))\n",
        "print('原來你', age)"
      ],
      "execution_count": null,
      "outputs": [
        {
          "output_type": "stream",
          "text": [
            "請問年紀?19\n",
            "原來你 19\n"
          ],
          "name": "stdout"
        }
      ]
    },
    {
      "cell_type": "code",
      "metadata": {
        "colab": {
          "base_uri": "https://localhost:8080/"
        },
        "id": "lTT-WocnjTug",
        "outputId": "160cdf10-e20c-4b38-c5e9-aa48bcd88e00"
      },
      "source": [
        "weight = eval(input('請問體重?'))\n",
        "print(type(weight))\n",
        "print('體重為', weight)"
      ],
      "execution_count": null,
      "outputs": [
        {
          "output_type": "stream",
          "text": [
            "請問體重?48\n",
            "<class 'int'>\n",
            "體重為 48\n"
          ],
          "name": "stdout"
        }
      ]
    },
    {
      "cell_type": "code",
      "metadata": {
        "colab": {
          "base_uri": "https://localhost:8080/"
        },
        "id": "-CchZ96ejxp5",
        "outputId": "6ff04797-fa97-4ea8-c33a-8d8968e73c2e"
      },
      "source": [
        "radius = float(input('請輸入半徑?'))\n",
        "PI = 3.14159\n",
        "\n",
        "circumference = 2 * PI * radius\n",
        "area = radius * radius * PI \n",
        "\n",
        "print(f'圓周長為 {circumference}， 園面積為 {area}。')"
      ],
      "execution_count": null,
      "outputs": [
        {
          "output_type": "stream",
          "text": [
            "請輸入半徑?10\n",
            "圓周長為 62.8318， 園面積為 314.159。\n"
          ],
          "name": "stdout"
        }
      ]
    },
    {
      "cell_type": "code",
      "metadata": {
        "colab": {
          "base_uri": "https://localhost:8080/",
          "height": 529
        },
        "id": "eeFkn8MxldIb",
        "outputId": "5759bc6f-feba-491c-f058-3bc533a1a05b"
      },
      "source": [
        "PI = 3.14\n",
        "r1 = input(\"Enter radius 1: \")\n",
        "r2 = input(\"Enter radius 2: \")\n",
        "r1 = float(r1)\n",
        "r2 = float(r2)\n",
        "\n",
        "area1 = PI * r1 * r1\n",
        "area2 = PI * r2 * r2\n",
        "area = area1 - area2\n",
        "\n",
        "print(f\" ......................{area}\")"
      ],
      "execution_count": null,
      "outputs": [
        {
          "output_type": "error",
          "ename": "KeyboardInterrupt",
          "evalue": "ignored",
          "traceback": [
            "\u001b[0;31m---------------------------------------------------------------------------\u001b[0m",
            "\u001b[0;31mKeyboardInterrupt\u001b[0m                         Traceback (most recent call last)",
            "\u001b[0;32m/usr/local/lib/python3.7/dist-packages/ipykernel/kernelbase.py\u001b[0m in \u001b[0;36m_input_request\u001b[0;34m(self, prompt, ident, parent, password)\u001b[0m\n\u001b[1;32m    728\u001b[0m             \u001b[0;32mtry\u001b[0m\u001b[0;34m:\u001b[0m\u001b[0;34m\u001b[0m\u001b[0;34m\u001b[0m\u001b[0m\n\u001b[0;32m--> 729\u001b[0;31m                 \u001b[0mident\u001b[0m\u001b[0;34m,\u001b[0m \u001b[0mreply\u001b[0m \u001b[0;34m=\u001b[0m \u001b[0mself\u001b[0m\u001b[0;34m.\u001b[0m\u001b[0msession\u001b[0m\u001b[0;34m.\u001b[0m\u001b[0mrecv\u001b[0m\u001b[0;34m(\u001b[0m\u001b[0mself\u001b[0m\u001b[0;34m.\u001b[0m\u001b[0mstdin_socket\u001b[0m\u001b[0;34m,\u001b[0m \u001b[0;36m0\u001b[0m\u001b[0;34m)\u001b[0m\u001b[0;34m\u001b[0m\u001b[0;34m\u001b[0m\u001b[0m\n\u001b[0m\u001b[1;32m    730\u001b[0m             \u001b[0;32mexcept\u001b[0m \u001b[0mException\u001b[0m\u001b[0;34m:\u001b[0m\u001b[0;34m\u001b[0m\u001b[0;34m\u001b[0m\u001b[0m\n",
            "\u001b[0;32m/usr/local/lib/python3.7/dist-packages/jupyter_client/session.py\u001b[0m in \u001b[0;36mrecv\u001b[0;34m(self, socket, mode, content, copy)\u001b[0m\n\u001b[1;32m    802\u001b[0m         \u001b[0;32mtry\u001b[0m\u001b[0;34m:\u001b[0m\u001b[0;34m\u001b[0m\u001b[0;34m\u001b[0m\u001b[0m\n\u001b[0;32m--> 803\u001b[0;31m             \u001b[0mmsg_list\u001b[0m \u001b[0;34m=\u001b[0m \u001b[0msocket\u001b[0m\u001b[0;34m.\u001b[0m\u001b[0mrecv_multipart\u001b[0m\u001b[0;34m(\u001b[0m\u001b[0mmode\u001b[0m\u001b[0;34m,\u001b[0m \u001b[0mcopy\u001b[0m\u001b[0;34m=\u001b[0m\u001b[0mcopy\u001b[0m\u001b[0;34m)\u001b[0m\u001b[0;34m\u001b[0m\u001b[0;34m\u001b[0m\u001b[0m\n\u001b[0m\u001b[1;32m    804\u001b[0m         \u001b[0;32mexcept\u001b[0m \u001b[0mzmq\u001b[0m\u001b[0;34m.\u001b[0m\u001b[0mZMQError\u001b[0m \u001b[0;32mas\u001b[0m \u001b[0me\u001b[0m\u001b[0;34m:\u001b[0m\u001b[0;34m\u001b[0m\u001b[0;34m\u001b[0m\u001b[0m\n",
            "\u001b[0;32m/usr/local/lib/python3.7/dist-packages/zmq/sugar/socket.py\u001b[0m in \u001b[0;36mrecv_multipart\u001b[0;34m(self, flags, copy, track)\u001b[0m\n\u001b[1;32m    582\u001b[0m         \"\"\"\n\u001b[0;32m--> 583\u001b[0;31m         \u001b[0mparts\u001b[0m \u001b[0;34m=\u001b[0m \u001b[0;34m[\u001b[0m\u001b[0mself\u001b[0m\u001b[0;34m.\u001b[0m\u001b[0mrecv\u001b[0m\u001b[0;34m(\u001b[0m\u001b[0mflags\u001b[0m\u001b[0;34m,\u001b[0m \u001b[0mcopy\u001b[0m\u001b[0;34m=\u001b[0m\u001b[0mcopy\u001b[0m\u001b[0;34m,\u001b[0m \u001b[0mtrack\u001b[0m\u001b[0;34m=\u001b[0m\u001b[0mtrack\u001b[0m\u001b[0;34m)\u001b[0m\u001b[0;34m]\u001b[0m\u001b[0;34m\u001b[0m\u001b[0;34m\u001b[0m\u001b[0m\n\u001b[0m\u001b[1;32m    584\u001b[0m         \u001b[0;31m# have first part already, only loop while more to receive\u001b[0m\u001b[0;34m\u001b[0m\u001b[0;34m\u001b[0m\u001b[0;34m\u001b[0m\u001b[0m\n",
            "\u001b[0;32mzmq/backend/cython/socket.pyx\u001b[0m in \u001b[0;36mzmq.backend.cython.socket.Socket.recv\u001b[0;34m()\u001b[0m\n",
            "\u001b[0;32mzmq/backend/cython/socket.pyx\u001b[0m in \u001b[0;36mzmq.backend.cython.socket.Socket.recv\u001b[0;34m()\u001b[0m\n",
            "\u001b[0;32mzmq/backend/cython/socket.pyx\u001b[0m in \u001b[0;36mzmq.backend.cython.socket._recv_copy\u001b[0;34m()\u001b[0m\n",
            "\u001b[0;32m/usr/local/lib/python3.7/dist-packages/zmq/backend/cython/checkrc.pxd\u001b[0m in \u001b[0;36mzmq.backend.cython.checkrc._check_rc\u001b[0;34m()\u001b[0m\n",
            "\u001b[0;31mKeyboardInterrupt\u001b[0m: ",
            "\nDuring handling of the above exception, another exception occurred:\n",
            "\u001b[0;31mKeyboardInterrupt\u001b[0m                         Traceback (most recent call last)",
            "\u001b[0;32m<ipython-input-32-f684d49b3318>\u001b[0m in \u001b[0;36m<module>\u001b[0;34m()\u001b[0m\n\u001b[1;32m      1\u001b[0m \u001b[0mPI\u001b[0m \u001b[0;34m=\u001b[0m \u001b[0;36m3.14\u001b[0m\u001b[0;34m\u001b[0m\u001b[0;34m\u001b[0m\u001b[0m\n\u001b[0;32m----> 2\u001b[0;31m \u001b[0mr1\u001b[0m \u001b[0;34m=\u001b[0m \u001b[0minput\u001b[0m\u001b[0;34m(\u001b[0m\u001b[0;34m\"Enter radius 1: \"\u001b[0m\u001b[0;34m)\u001b[0m\u001b[0;34m\u001b[0m\u001b[0;34m\u001b[0m\u001b[0m\n\u001b[0m\u001b[1;32m      3\u001b[0m \u001b[0mr2\u001b[0m \u001b[0;34m=\u001b[0m \u001b[0minput\u001b[0m\u001b[0;34m(\u001b[0m\u001b[0;34m\"Enter radius 2: \"\u001b[0m\u001b[0;34m)\u001b[0m\u001b[0;34m\u001b[0m\u001b[0;34m\u001b[0m\u001b[0m\n\u001b[1;32m      4\u001b[0m \u001b[0mr1\u001b[0m \u001b[0;34m=\u001b[0m \u001b[0mfloat\u001b[0m\u001b[0;34m(\u001b[0m\u001b[0mr1\u001b[0m\u001b[0;34m)\u001b[0m\u001b[0;34m\u001b[0m\u001b[0;34m\u001b[0m\u001b[0m\n\u001b[1;32m      5\u001b[0m \u001b[0mr2\u001b[0m \u001b[0;34m=\u001b[0m \u001b[0mfloat\u001b[0m\u001b[0;34m(\u001b[0m\u001b[0mr2\u001b[0m\u001b[0;34m)\u001b[0m\u001b[0;34m\u001b[0m\u001b[0;34m\u001b[0m\u001b[0m\n",
            "\u001b[0;32m/usr/local/lib/python3.7/dist-packages/ipykernel/kernelbase.py\u001b[0m in \u001b[0;36mraw_input\u001b[0;34m(self, prompt)\u001b[0m\n\u001b[1;32m    702\u001b[0m             \u001b[0mself\u001b[0m\u001b[0;34m.\u001b[0m\u001b[0m_parent_ident\u001b[0m\u001b[0;34m,\u001b[0m\u001b[0;34m\u001b[0m\u001b[0;34m\u001b[0m\u001b[0m\n\u001b[1;32m    703\u001b[0m             \u001b[0mself\u001b[0m\u001b[0;34m.\u001b[0m\u001b[0m_parent_header\u001b[0m\u001b[0;34m,\u001b[0m\u001b[0;34m\u001b[0m\u001b[0;34m\u001b[0m\u001b[0m\n\u001b[0;32m--> 704\u001b[0;31m             \u001b[0mpassword\u001b[0m\u001b[0;34m=\u001b[0m\u001b[0;32mFalse\u001b[0m\u001b[0;34m,\u001b[0m\u001b[0;34m\u001b[0m\u001b[0;34m\u001b[0m\u001b[0m\n\u001b[0m\u001b[1;32m    705\u001b[0m         )\n\u001b[1;32m    706\u001b[0m \u001b[0;34m\u001b[0m\u001b[0m\n",
            "\u001b[0;32m/usr/local/lib/python3.7/dist-packages/ipykernel/kernelbase.py\u001b[0m in \u001b[0;36m_input_request\u001b[0;34m(self, prompt, ident, parent, password)\u001b[0m\n\u001b[1;32m    732\u001b[0m             \u001b[0;32mexcept\u001b[0m \u001b[0mKeyboardInterrupt\u001b[0m\u001b[0;34m:\u001b[0m\u001b[0;34m\u001b[0m\u001b[0;34m\u001b[0m\u001b[0m\n\u001b[1;32m    733\u001b[0m                 \u001b[0;31m# re-raise KeyboardInterrupt, to truncate traceback\u001b[0m\u001b[0;34m\u001b[0m\u001b[0;34m\u001b[0m\u001b[0;34m\u001b[0m\u001b[0m\n\u001b[0;32m--> 734\u001b[0;31m                 \u001b[0;32mraise\u001b[0m \u001b[0mKeyboardInterrupt\u001b[0m\u001b[0;34m\u001b[0m\u001b[0;34m\u001b[0m\u001b[0m\n\u001b[0m\u001b[1;32m    735\u001b[0m             \u001b[0;32melse\u001b[0m\u001b[0;34m:\u001b[0m\u001b[0;34m\u001b[0m\u001b[0;34m\u001b[0m\u001b[0m\n\u001b[1;32m    736\u001b[0m                 \u001b[0;32mbreak\u001b[0m\u001b[0;34m\u001b[0m\u001b[0;34m\u001b[0m\u001b[0m\n",
            "\u001b[0;31mKeyboardInterrupt\u001b[0m: "
          ]
        }
      ]
    },
    {
      "cell_type": "code",
      "metadata": {
        "colab": {
          "base_uri": "https://localhost:8080/",
          "height": 529
        },
        "id": "dR9YZFuSl91Q",
        "outputId": "a8c09757-055b-461d-a265-1e4de42e5f94"
      },
      "source": [
        "c = float(input('請輸入攝氏溫度?'))\n",
        "f = c * 9/5 + 32\n",
        "\n",
        "print('華氏溫度為', f)\n"
      ],
      "execution_count": null,
      "outputs": [
        {
          "output_type": "error",
          "ename": "KeyboardInterrupt",
          "evalue": "ignored",
          "traceback": [
            "\u001b[0;31m---------------------------------------------------------------------------\u001b[0m",
            "\u001b[0;31mKeyboardInterrupt\u001b[0m                         Traceback (most recent call last)",
            "\u001b[0;32m/usr/local/lib/python3.7/dist-packages/ipykernel/kernelbase.py\u001b[0m in \u001b[0;36m_input_request\u001b[0;34m(self, prompt, ident, parent, password)\u001b[0m\n\u001b[1;32m    728\u001b[0m             \u001b[0;32mtry\u001b[0m\u001b[0;34m:\u001b[0m\u001b[0;34m\u001b[0m\u001b[0;34m\u001b[0m\u001b[0m\n\u001b[0;32m--> 729\u001b[0;31m                 \u001b[0mident\u001b[0m\u001b[0;34m,\u001b[0m \u001b[0mreply\u001b[0m \u001b[0;34m=\u001b[0m \u001b[0mself\u001b[0m\u001b[0;34m.\u001b[0m\u001b[0msession\u001b[0m\u001b[0;34m.\u001b[0m\u001b[0mrecv\u001b[0m\u001b[0;34m(\u001b[0m\u001b[0mself\u001b[0m\u001b[0;34m.\u001b[0m\u001b[0mstdin_socket\u001b[0m\u001b[0;34m,\u001b[0m \u001b[0;36m0\u001b[0m\u001b[0;34m)\u001b[0m\u001b[0;34m\u001b[0m\u001b[0;34m\u001b[0m\u001b[0m\n\u001b[0m\u001b[1;32m    730\u001b[0m             \u001b[0;32mexcept\u001b[0m \u001b[0mException\u001b[0m\u001b[0;34m:\u001b[0m\u001b[0;34m\u001b[0m\u001b[0;34m\u001b[0m\u001b[0m\n",
            "\u001b[0;32m/usr/local/lib/python3.7/dist-packages/jupyter_client/session.py\u001b[0m in \u001b[0;36mrecv\u001b[0;34m(self, socket, mode, content, copy)\u001b[0m\n\u001b[1;32m    802\u001b[0m         \u001b[0;32mtry\u001b[0m\u001b[0;34m:\u001b[0m\u001b[0;34m\u001b[0m\u001b[0;34m\u001b[0m\u001b[0m\n\u001b[0;32m--> 803\u001b[0;31m             \u001b[0mmsg_list\u001b[0m \u001b[0;34m=\u001b[0m \u001b[0msocket\u001b[0m\u001b[0;34m.\u001b[0m\u001b[0mrecv_multipart\u001b[0m\u001b[0;34m(\u001b[0m\u001b[0mmode\u001b[0m\u001b[0;34m,\u001b[0m \u001b[0mcopy\u001b[0m\u001b[0;34m=\u001b[0m\u001b[0mcopy\u001b[0m\u001b[0;34m)\u001b[0m\u001b[0;34m\u001b[0m\u001b[0;34m\u001b[0m\u001b[0m\n\u001b[0m\u001b[1;32m    804\u001b[0m         \u001b[0;32mexcept\u001b[0m \u001b[0mzmq\u001b[0m\u001b[0;34m.\u001b[0m\u001b[0mZMQError\u001b[0m \u001b[0;32mas\u001b[0m \u001b[0me\u001b[0m\u001b[0;34m:\u001b[0m\u001b[0;34m\u001b[0m\u001b[0;34m\u001b[0m\u001b[0m\n",
            "\u001b[0;32m/usr/local/lib/python3.7/dist-packages/zmq/sugar/socket.py\u001b[0m in \u001b[0;36mrecv_multipart\u001b[0;34m(self, flags, copy, track)\u001b[0m\n\u001b[1;32m    582\u001b[0m         \"\"\"\n\u001b[0;32m--> 583\u001b[0;31m         \u001b[0mparts\u001b[0m \u001b[0;34m=\u001b[0m \u001b[0;34m[\u001b[0m\u001b[0mself\u001b[0m\u001b[0;34m.\u001b[0m\u001b[0mrecv\u001b[0m\u001b[0;34m(\u001b[0m\u001b[0mflags\u001b[0m\u001b[0;34m,\u001b[0m \u001b[0mcopy\u001b[0m\u001b[0;34m=\u001b[0m\u001b[0mcopy\u001b[0m\u001b[0;34m,\u001b[0m \u001b[0mtrack\u001b[0m\u001b[0;34m=\u001b[0m\u001b[0mtrack\u001b[0m\u001b[0;34m)\u001b[0m\u001b[0;34m]\u001b[0m\u001b[0;34m\u001b[0m\u001b[0;34m\u001b[0m\u001b[0m\n\u001b[0m\u001b[1;32m    584\u001b[0m         \u001b[0;31m# have first part already, only loop while more to receive\u001b[0m\u001b[0;34m\u001b[0m\u001b[0;34m\u001b[0m\u001b[0;34m\u001b[0m\u001b[0m\n",
            "\u001b[0;32mzmq/backend/cython/socket.pyx\u001b[0m in \u001b[0;36mzmq.backend.cython.socket.Socket.recv\u001b[0;34m()\u001b[0m\n",
            "\u001b[0;32mzmq/backend/cython/socket.pyx\u001b[0m in \u001b[0;36mzmq.backend.cython.socket.Socket.recv\u001b[0;34m()\u001b[0m\n",
            "\u001b[0;32mzmq/backend/cython/socket.pyx\u001b[0m in \u001b[0;36mzmq.backend.cython.socket._recv_copy\u001b[0;34m()\u001b[0m\n",
            "\u001b[0;32m/usr/local/lib/python3.7/dist-packages/zmq/backend/cython/checkrc.pxd\u001b[0m in \u001b[0;36mzmq.backend.cython.checkrc._check_rc\u001b[0;34m()\u001b[0m\n",
            "\u001b[0;31mKeyboardInterrupt\u001b[0m: ",
            "\nDuring handling of the above exception, another exception occurred:\n",
            "\u001b[0;31mKeyboardInterrupt\u001b[0m                         Traceback (most recent call last)",
            "\u001b[0;32m<ipython-input-33-ae5632c14c9d>\u001b[0m in \u001b[0;36m<module>\u001b[0;34m()\u001b[0m\n\u001b[0;32m----> 1\u001b[0;31m \u001b[0mc\u001b[0m \u001b[0;34m=\u001b[0m \u001b[0mfloat\u001b[0m\u001b[0;34m(\u001b[0m\u001b[0minput\u001b[0m\u001b[0;34m(\u001b[0m\u001b[0;34m'請輸入攝氏溫度?'\u001b[0m\u001b[0;34m)\u001b[0m\u001b[0;34m)\u001b[0m\u001b[0;34m\u001b[0m\u001b[0;34m\u001b[0m\u001b[0m\n\u001b[0m\u001b[1;32m      2\u001b[0m \u001b[0mf\u001b[0m \u001b[0;34m=\u001b[0m \u001b[0mc\u001b[0m \u001b[0;34m*\u001b[0m \u001b[0;36m9\u001b[0m\u001b[0;34m/\u001b[0m\u001b[0;36m5\u001b[0m \u001b[0;34m+\u001b[0m \u001b[0;36m32\u001b[0m\u001b[0;34m\u001b[0m\u001b[0;34m\u001b[0m\u001b[0m\n\u001b[1;32m      3\u001b[0m \u001b[0;34m\u001b[0m\u001b[0m\n\u001b[1;32m      4\u001b[0m \u001b[0mprint\u001b[0m\u001b[0;34m(\u001b[0m\u001b[0;34m'華氏溫度為'\u001b[0m\u001b[0;34m,\u001b[0m \u001b[0mf\u001b[0m\u001b[0;34m)\u001b[0m\u001b[0;34m\u001b[0m\u001b[0;34m\u001b[0m\u001b[0m\n",
            "\u001b[0;32m/usr/local/lib/python3.7/dist-packages/ipykernel/kernelbase.py\u001b[0m in \u001b[0;36mraw_input\u001b[0;34m(self, prompt)\u001b[0m\n\u001b[1;32m    702\u001b[0m             \u001b[0mself\u001b[0m\u001b[0;34m.\u001b[0m\u001b[0m_parent_ident\u001b[0m\u001b[0;34m,\u001b[0m\u001b[0;34m\u001b[0m\u001b[0;34m\u001b[0m\u001b[0m\n\u001b[1;32m    703\u001b[0m             \u001b[0mself\u001b[0m\u001b[0;34m.\u001b[0m\u001b[0m_parent_header\u001b[0m\u001b[0;34m,\u001b[0m\u001b[0;34m\u001b[0m\u001b[0;34m\u001b[0m\u001b[0m\n\u001b[0;32m--> 704\u001b[0;31m             \u001b[0mpassword\u001b[0m\u001b[0;34m=\u001b[0m\u001b[0;32mFalse\u001b[0m\u001b[0;34m,\u001b[0m\u001b[0;34m\u001b[0m\u001b[0;34m\u001b[0m\u001b[0m\n\u001b[0m\u001b[1;32m    705\u001b[0m         )\n\u001b[1;32m    706\u001b[0m \u001b[0;34m\u001b[0m\u001b[0m\n",
            "\u001b[0;32m/usr/local/lib/python3.7/dist-packages/ipykernel/kernelbase.py\u001b[0m in \u001b[0;36m_input_request\u001b[0;34m(self, prompt, ident, parent, password)\u001b[0m\n\u001b[1;32m    732\u001b[0m             \u001b[0;32mexcept\u001b[0m \u001b[0mKeyboardInterrupt\u001b[0m\u001b[0;34m:\u001b[0m\u001b[0;34m\u001b[0m\u001b[0;34m\u001b[0m\u001b[0m\n\u001b[1;32m    733\u001b[0m                 \u001b[0;31m# re-raise KeyboardInterrupt, to truncate traceback\u001b[0m\u001b[0;34m\u001b[0m\u001b[0;34m\u001b[0m\u001b[0;34m\u001b[0m\u001b[0m\n\u001b[0;32m--> 734\u001b[0;31m                 \u001b[0;32mraise\u001b[0m \u001b[0mKeyboardInterrupt\u001b[0m\u001b[0;34m\u001b[0m\u001b[0;34m\u001b[0m\u001b[0m\n\u001b[0m\u001b[1;32m    735\u001b[0m             \u001b[0;32melse\u001b[0m\u001b[0;34m:\u001b[0m\u001b[0;34m\u001b[0m\u001b[0;34m\u001b[0m\u001b[0m\n\u001b[1;32m    736\u001b[0m                 \u001b[0;32mbreak\u001b[0m\u001b[0;34m\u001b[0m\u001b[0;34m\u001b[0m\u001b[0m\n",
            "\u001b[0;31mKeyboardInterrupt\u001b[0m: "
          ]
        }
      ]
    },
    {
      "cell_type": "code",
      "metadata": {
        "id": "nMlW4KjZnjwP"
      },
      "source": [
        "f = int (input('請輸入幾尺?'))\n",
        "i = int(input('請輸入幾吋?'))\n",
        "ans = (f*12+i)*2.54\n",
        "print('轉換成', ans,'公分')"
      ],
      "execution_count": null,
      "outputs": []
    },
    {
      "cell_type": "code",
      "metadata": {
        "id": "zzi18fNUr5X8"
      },
      "source": [
        ""
      ],
      "execution_count": null,
      "outputs": []
    }
  ]
}