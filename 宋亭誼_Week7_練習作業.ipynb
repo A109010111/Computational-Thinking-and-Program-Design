{
  "nbformat": 4,
  "nbformat_minor": 0,
  "metadata": {
    "colab": {
      "name": "宋亭誼-Week7-練習作業.ipynb",
      "provenance": [],
      "collapsed_sections": [],
      "include_colab_link": true
    },
    "kernelspec": {
      "display_name": "Python 3",
      "language": "python",
      "name": "python3"
    },
    "language_info": {
      "codemirror_mode": {
        "name": "ipython",
        "version": 3
      },
      "file_extension": ".py",
      "mimetype": "text/x-python",
      "name": "python",
      "nbconvert_exporter": "python",
      "pygments_lexer": "ipython3",
      "version": "3.8.5"
    }
  },
  "cells": [
    {
      "cell_type": "markdown",
      "metadata": {
        "id": "view-in-github",
        "colab_type": "text"
      },
      "source": [
        "<a href=\"https://colab.research.google.com/github/A109010111/Computational-Thinking-and-Program-Design/blob/main/%E5%AE%8B%E4%BA%AD%E8%AA%BC_Week7_%E7%B7%B4%E7%BF%92%E4%BD%9C%E6%A5%AD.ipynb\" target=\"_parent\"><img src=\"https://colab.research.google.com/assets/colab-badge.svg\" alt=\"Open In Colab\"/></a>"
      ]
    },
    {
      "cell_type": "code",
      "metadata": {
        "id": "zzi18fNUr5X8",
        "colab": {
          "base_uri": "https://localhost:8080/"
        },
        "outputId": "d33ed169-f672-4afe-a169-2cc243422c1e"
      },
      "source": [
        "#求圓環的面積\n",
        "\n",
        "r1 = eval(input(\"輸入外圓的直徑： \"))\n",
        "r2 = eval(input(\"輸入內圓的直徑： \"))\n",
        "s1 = 3.14 * r1/2 * r1/2\n",
        "s2 = 3.14 * r2/2 * r2/2\n",
        "s3 = s1 - s2\n",
        "print(\"外圓面積為\", s1)\n",
        "print(\"內圓面積為\", s2)\n",
        "print(\"圓環面積為\", s3)"
      ],
      "execution_count": null,
      "outputs": [
        {
          "output_type": "stream",
          "text": [
            "輸入外圓的直徑： 8\n",
            "輸入內圓的直徑： 6\n",
            "外圓面積為 50.24\n",
            "內圓面積為 28.259999999999998\n",
            "圓環面積為 21.980000000000004\n"
          ],
          "name": "stdout"
        }
      ]
    },
    {
      "cell_type": "code",
      "metadata": {
        "colab": {
          "base_uri": "https://localhost:8080/"
        },
        "id": "ZA6SrgyULo6o",
        "outputId": "1d1961f0-8dbe-43b5-9c23-4e51d19ac6ff"
      },
      "source": [
        "#英制轉公制\n",
        "\n",
        "f = int(input('請輸入幾尺？'))\n",
        "i = int(input('請輸入幾吋？'))\n",
        "ans = (f*12+i)*2.54\n",
        "print('轉換成', ans, '公分')"
      ],
      "execution_count": null,
      "outputs": [
        {
          "output_type": "stream",
          "text": [
            "請輸入幾尺？5\n",
            "請輸入幾吋？8\n",
            "轉換成 172.72 公分\n"
          ],
          "name": "stdout"
        }
      ]
    },
    {
      "cell_type": "code",
      "metadata": {
        "id": "AkrNvqGlL2R_",
        "colab": {
          "base_uri": "https://localhost:8080/"
        },
        "outputId": "317687e6-b983-4e70-ce1c-c93fd453a369"
      },
      "source": [
        "#整理圖書\n",
        "\n",
        "a = 13\n",
        "b = 11\n",
        "t = a\n",
        "a = b\n",
        "b = t\n",
        "print(\"a = \", a, \"b = \", b)\n",
        "\n",
        "\n"
      ],
      "execution_count": 5,
      "outputs": [
        {
          "output_type": "stream",
          "text": [
            "a =  11 b =  13\n"
          ],
          "name": "stdout"
        }
      ]
    },
    {
      "cell_type": "code",
      "metadata": {
        "id": "jclZZC2WL-r5",
        "colab": {
          "base_uri": "https://localhost:8080/"
        },
        "outputId": "a9250694-f79f-4536-ca2b-18591c307da5"
      },
      "source": [
        "#分糖果遊戲\n",
        "\n",
        "a,b,c,d,e,f = eval(input(\"Enter a number\"))\n",
        "\n",
        "a = a//3 ; b = b + a ; f = f + a\n",
        "print(f\"a = {a}, b = {b}, c = {c}, d = {d}, e = {e}, f = {f}\")\n",
        "\n",
        "b = b//3 ; a = a + b ; c = c + b\n",
        "print(f\"a = {a}, b = {b}, c = {c}, d = {d}, e = {e}, f = {f}\")\n",
        "\n",
        "c = c//3 ; b = b + c ; d = d + c\n",
        "print(f\"a = {a}, b = {b}, c = {c}, d = {d}, e = {e}, f = {f}\")\n",
        "\n",
        "d = d//3 ; c = c + d ; e = e + c\n",
        "print(f\"a = {a}, b = {b}, c = {c}, d = {d}, e = {e}, f = {f}\")\n",
        "\n",
        "e = e//3 ; d = d + e ; f = f + e\n",
        "print(f\"a = {a}, b = {b}, c = {c}, d = {d}, e = {e}, f = {f}\")\n",
        "\n",
        "f = f//3 ; e = e + f ; a = a +f\n",
        "print(f\"a = {a}, b = {b}, c = {c}, d = {d}, e = {e}, f = {f}\")\n"
      ],
      "execution_count": 16,
      "outputs": [
        {
          "output_type": "stream",
          "text": [
            "Enter a number1,2,3,4,5,6\n",
            "a = 0, b = 2, c = 3, d = 4, e = 5, f = 6\n",
            "a = 0, b = 0, c = 3, d = 4, e = 5, f = 6\n",
            "a = 0, b = 1, c = 1, d = 5, e = 5, f = 6\n",
            "a = 0, b = 1, c = 2, d = 1, e = 7, f = 6\n",
            "a = 0, b = 1, c = 2, d = 3, e = 2, f = 8\n",
            "a = 2, b = 1, c = 2, d = 3, e = 4, f = 2\n"
          ],
          "name": "stdout"
        }
      ]
    },
    {
      "cell_type": "code",
      "metadata": {
        "id": "mz-NVsSifP1r"
      },
      "source": [
        ""
      ],
      "execution_count": 9,
      "outputs": []
    }
  ]
}